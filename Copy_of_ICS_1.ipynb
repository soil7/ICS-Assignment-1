{
  "nbformat": 4,
  "nbformat_minor": 0,
  "metadata": {
    "colab": {
      "provenance": [],
      "toc_visible": true,
      "authorship_tag": "ABX9TyP0/u+VEzX7I6SxqXGGB0hV",
      "include_colab_link": true
    },
    "kernelspec": {
      "name": "python3",
      "display_name": "Python 3"
    },
    "language_info": {
      "name": "python"
    }
  },
  "cells": [
    {
      "cell_type": "markdown",
      "metadata": {
        "id": "view-in-github",
        "colab_type": "text"
      },
      "source": [
        "<a href=\"https://colab.research.google.com/github/soil7/ICS-Assignment-1/blob/main/Copy_of_ICS_1.ipynb\" target=\"_parent\"><img src=\"https://colab.research.google.com/assets/colab-badge.svg\" alt=\"Open In Colab\"/></a>"
      ]
    },
    {
      "cell_type": "code",
      "source": [
        "# prompt: 1. Dataset:\n",
        "# Use the Breast Cancer dataset provided by sklearn. It includes 30 features and a binary\n",
        "# classification task (malignant vs. benign).\n",
        "# 2. Tasks:\n",
        "# Data Preprocessing:\n",
        "# - Load the Breast Cancer dataset using load_breast_cancer from sklearn.\n",
        "# - Partition the data into an 80% training set and a 20% test set.\n",
        "# - Scale the features using StandardScaler for KNN.\n",
        "# ```\n",
        "# # This is formatted as code\n",
        "# ```\n",
        "\n",
        "from sklearn.datasets import load_breast_cancer\n",
        "from sklearn.model_selection import train_test_split\n",
        "from sklearn.preprocessing import StandardScaler\n",
        "\n",
        "# Load the Breast Cancer dataset\n",
        "cancer = load_breast_cancer()\n",
        "X = pd.DataFrame(cancer.data, columns=cancer.feature_names)\n",
        "y = cancer.target\n",
        "print(X.shape)\n",
        "print(cancer.feature_names)\n",
        "print(y.shape)\n",
        "print(y)\n",
        "print(cancer.target_names)\n",
        "print(cancer)\n",
        "\n",
        "# Split the data into training and testing sets\n",
        "X_train, X_test, y_train, y_test = train_test_split(X, y, test_size=0.2, random_state=42)\n",
        "\n",
        "# Scale the features using StandardScaler\n",
        "scaler = StandardScaler()\n",
        "X_train_scaled = scaler.fit_transform(X_train)\n",
        "X_test_scaled = scaler.transform(X_test)\n",
        "\n",
        "print(\"Shape of X_train:\", X_train.shape)\n",
        "print(\"Shape of X_test:\", X_test.shape)\n",
        "print(\"Shape of y_train:\", y_train.shape)\n",
        "print(\"Shape of y_test:\", y_test.shape)\n",
        "print(\"Shape of X_train_scaled:\", X_train_scaled.shape)\n",
        "print(\"Shape of X_test_scaled:\", X_test_scaled.shape)\n",
        "\n"
      ],
      "metadata": {
        "id": "84nOHDl3DXUm",
        "colab": {
          "base_uri": "https://localhost:8080/"
        },
        "outputId": "94380c3e-a3ae-4b2b-f971-98dd587aeff0"
      },
      "execution_count": 3,
      "outputs": [
        {
          "output_type": "stream",
          "name": "stdout",
          "text": [
            "(569, 30)\n",
            "['mean radius' 'mean texture' 'mean perimeter' 'mean area'\n",
            " 'mean smoothness' 'mean compactness' 'mean concavity'\n",
            " 'mean concave points' 'mean symmetry' 'mean fractal dimension'\n",
            " 'radius error' 'texture error' 'perimeter error' 'area error'\n",
            " 'smoothness error' 'compactness error' 'concavity error'\n",
            " 'concave points error' 'symmetry error' 'fractal dimension error'\n",
            " 'worst radius' 'worst texture' 'worst perimeter' 'worst area'\n",
            " 'worst smoothness' 'worst compactness' 'worst concavity'\n",
            " 'worst concave points' 'worst symmetry' 'worst fractal dimension']\n",
            "(569,)\n",
            "[0 0 0 0 0 0 0 0 0 0 0 0 0 0 0 0 0 0 0 1 1 1 0 0 0 0 0 0 0 0 0 0 0 0 0 0 0\n",
            " 1 0 0 0 0 0 0 0 0 1 0 1 1 1 1 1 0 0 1 0 0 1 1 1 1 0 1 0 0 1 1 1 1 0 1 0 0\n",
            " 1 0 1 0 0 1 1 1 0 0 1 0 0 0 1 1 1 0 1 1 0 0 1 1 1 0 0 1 1 1 1 0 1 1 0 1 1\n",
            " 1 1 1 1 1 1 0 0 0 1 0 0 1 1 1 0 0 1 0 1 0 0 1 0 0 1 1 0 1 1 0 1 1 1 1 0 1\n",
            " 1 1 1 1 1 1 1 1 0 1 1 1 1 0 0 1 0 1 1 0 0 1 1 0 0 1 1 1 1 0 1 1 0 0 0 1 0\n",
            " 1 0 1 1 1 0 1 1 0 0 1 0 0 0 0 1 0 0 0 1 0 1 0 1 1 0 1 0 0 0 0 1 1 0 0 1 1\n",
            " 1 0 1 1 1 1 1 0 0 1 1 0 1 1 0 0 1 0 1 1 1 1 0 1 1 1 1 1 0 1 0 0 0 0 0 0 0\n",
            " 0 0 0 0 0 0 0 1 1 1 1 1 1 0 1 0 1 1 0 1 1 0 1 0 0 1 1 1 1 1 1 1 1 1 1 1 1\n",
            " 1 0 1 1 0 1 0 1 1 1 1 1 1 1 1 1 1 1 1 1 1 0 1 1 1 0 1 0 1 1 1 1 0 0 0 1 1\n",
            " 1 1 0 1 0 1 0 1 1 1 0 1 1 1 1 1 1 1 0 0 0 1 1 1 1 1 1 1 1 1 1 1 0 0 1 0 0\n",
            " 0 1 0 0 1 1 1 1 1 0 1 1 1 1 1 0 1 1 1 0 1 1 0 0 1 1 1 1 1 1 0 1 1 1 1 1 1\n",
            " 1 0 1 1 1 1 1 0 1 1 0 1 1 1 1 1 1 1 1 1 1 1 1 0 1 0 0 1 0 1 1 1 1 1 0 1 1\n",
            " 0 1 0 1 1 0 1 0 1 1 1 1 1 1 1 1 0 0 1 1 1 1 1 1 0 1 1 1 1 1 1 1 1 1 1 0 1\n",
            " 1 1 1 1 1 1 0 1 0 1 1 0 1 1 1 1 1 0 0 1 0 1 0 1 1 1 1 1 0 1 1 0 1 0 1 0 0\n",
            " 1 1 1 0 1 1 1 1 1 1 1 1 1 1 1 0 1 0 0 1 1 1 1 1 1 1 1 1 1 1 1 1 1 1 1 1 1\n",
            " 1 1 1 1 1 1 1 0 0 0 0 0 0 1]\n",
            "['malignant' 'benign']\n",
            "{'data': array([[1.799e+01, 1.038e+01, 1.228e+02, ..., 2.654e-01, 4.601e-01,\n",
            "        1.189e-01],\n",
            "       [2.057e+01, 1.777e+01, 1.329e+02, ..., 1.860e-01, 2.750e-01,\n",
            "        8.902e-02],\n",
            "       [1.969e+01, 2.125e+01, 1.300e+02, ..., 2.430e-01, 3.613e-01,\n",
            "        8.758e-02],\n",
            "       ...,\n",
            "       [1.660e+01, 2.808e+01, 1.083e+02, ..., 1.418e-01, 2.218e-01,\n",
            "        7.820e-02],\n",
            "       [2.060e+01, 2.933e+01, 1.401e+02, ..., 2.650e-01, 4.087e-01,\n",
            "        1.240e-01],\n",
            "       [7.760e+00, 2.454e+01, 4.792e+01, ..., 0.000e+00, 2.871e-01,\n",
            "        7.039e-02]]), 'target': array([0, 0, 0, 0, 0, 0, 0, 0, 0, 0, 0, 0, 0, 0, 0, 0, 0, 0, 0, 1, 1, 1,\n",
            "       0, 0, 0, 0, 0, 0, 0, 0, 0, 0, 0, 0, 0, 0, 0, 1, 0, 0, 0, 0, 0, 0,\n",
            "       0, 0, 1, 0, 1, 1, 1, 1, 1, 0, 0, 1, 0, 0, 1, 1, 1, 1, 0, 1, 0, 0,\n",
            "       1, 1, 1, 1, 0, 1, 0, 0, 1, 0, 1, 0, 0, 1, 1, 1, 0, 0, 1, 0, 0, 0,\n",
            "       1, 1, 1, 0, 1, 1, 0, 0, 1, 1, 1, 0, 0, 1, 1, 1, 1, 0, 1, 1, 0, 1,\n",
            "       1, 1, 1, 1, 1, 1, 1, 0, 0, 0, 1, 0, 0, 1, 1, 1, 0, 0, 1, 0, 1, 0,\n",
            "       0, 1, 0, 0, 1, 1, 0, 1, 1, 0, 1, 1, 1, 1, 0, 1, 1, 1, 1, 1, 1, 1,\n",
            "       1, 1, 0, 1, 1, 1, 1, 0, 0, 1, 0, 1, 1, 0, 0, 1, 1, 0, 0, 1, 1, 1,\n",
            "       1, 0, 1, 1, 0, 0, 0, 1, 0, 1, 0, 1, 1, 1, 0, 1, 1, 0, 0, 1, 0, 0,\n",
            "       0, 0, 1, 0, 0, 0, 1, 0, 1, 0, 1, 1, 0, 1, 0, 0, 0, 0, 1, 1, 0, 0,\n",
            "       1, 1, 1, 0, 1, 1, 1, 1, 1, 0, 0, 1, 1, 0, 1, 1, 0, 0, 1, 0, 1, 1,\n",
            "       1, 1, 0, 1, 1, 1, 1, 1, 0, 1, 0, 0, 0, 0, 0, 0, 0, 0, 0, 0, 0, 0,\n",
            "       0, 0, 1, 1, 1, 1, 1, 1, 0, 1, 0, 1, 1, 0, 1, 1, 0, 1, 0, 0, 1, 1,\n",
            "       1, 1, 1, 1, 1, 1, 1, 1, 1, 1, 1, 0, 1, 1, 0, 1, 0, 1, 1, 1, 1, 1,\n",
            "       1, 1, 1, 1, 1, 1, 1, 1, 1, 0, 1, 1, 1, 0, 1, 0, 1, 1, 1, 1, 0, 0,\n",
            "       0, 1, 1, 1, 1, 0, 1, 0, 1, 0, 1, 1, 1, 0, 1, 1, 1, 1, 1, 1, 1, 0,\n",
            "       0, 0, 1, 1, 1, 1, 1, 1, 1, 1, 1, 1, 1, 0, 0, 1, 0, 0, 0, 1, 0, 0,\n",
            "       1, 1, 1, 1, 1, 0, 1, 1, 1, 1, 1, 0, 1, 1, 1, 0, 1, 1, 0, 0, 1, 1,\n",
            "       1, 1, 1, 1, 0, 1, 1, 1, 1, 1, 1, 1, 0, 1, 1, 1, 1, 1, 0, 1, 1, 0,\n",
            "       1, 1, 1, 1, 1, 1, 1, 1, 1, 1, 1, 1, 0, 1, 0, 0, 1, 0, 1, 1, 1, 1,\n",
            "       1, 0, 1, 1, 0, 1, 0, 1, 1, 0, 1, 0, 1, 1, 1, 1, 1, 1, 1, 1, 0, 0,\n",
            "       1, 1, 1, 1, 1, 1, 0, 1, 1, 1, 1, 1, 1, 1, 1, 1, 1, 0, 1, 1, 1, 1,\n",
            "       1, 1, 1, 0, 1, 0, 1, 1, 0, 1, 1, 1, 1, 1, 0, 0, 1, 0, 1, 0, 1, 1,\n",
            "       1, 1, 1, 0, 1, 1, 0, 1, 0, 1, 0, 0, 1, 1, 1, 0, 1, 1, 1, 1, 1, 1,\n",
            "       1, 1, 1, 1, 1, 0, 1, 0, 0, 1, 1, 1, 1, 1, 1, 1, 1, 1, 1, 1, 1, 1,\n",
            "       1, 1, 1, 1, 1, 1, 1, 1, 1, 1, 1, 1, 0, 0, 0, 0, 0, 0, 1]), 'frame': None, 'target_names': array(['malignant', 'benign'], dtype='<U9'), 'DESCR': '.. _breast_cancer_dataset:\\n\\nBreast cancer wisconsin (diagnostic) dataset\\n--------------------------------------------\\n\\n**Data Set Characteristics:**\\n\\n:Number of Instances: 569\\n\\n:Number of Attributes: 30 numeric, predictive attributes and the class\\n\\n:Attribute Information:\\n    - radius (mean of distances from center to points on the perimeter)\\n    - texture (standard deviation of gray-scale values)\\n    - perimeter\\n    - area\\n    - smoothness (local variation in radius lengths)\\n    - compactness (perimeter^2 / area - 1.0)\\n    - concavity (severity of concave portions of the contour)\\n    - concave points (number of concave portions of the contour)\\n    - symmetry\\n    - fractal dimension (\"coastline approximation\" - 1)\\n\\n    The mean, standard error, and \"worst\" or largest (mean of the three\\n    worst/largest values) of these features were computed for each image,\\n    resulting in 30 features.  For instance, field 0 is Mean Radius, field\\n    10 is Radius SE, field 20 is Worst Radius.\\n\\n    - class:\\n            - WDBC-Malignant\\n            - WDBC-Benign\\n\\n:Summary Statistics:\\n\\n===================================== ====== ======\\n                                        Min    Max\\n===================================== ====== ======\\nradius (mean):                        6.981  28.11\\ntexture (mean):                       9.71   39.28\\nperimeter (mean):                     43.79  188.5\\narea (mean):                          143.5  2501.0\\nsmoothness (mean):                    0.053  0.163\\ncompactness (mean):                   0.019  0.345\\nconcavity (mean):                     0.0    0.427\\nconcave points (mean):                0.0    0.201\\nsymmetry (mean):                      0.106  0.304\\nfractal dimension (mean):             0.05   0.097\\nradius (standard error):              0.112  2.873\\ntexture (standard error):             0.36   4.885\\nperimeter (standard error):           0.757  21.98\\narea (standard error):                6.802  542.2\\nsmoothness (standard error):          0.002  0.031\\ncompactness (standard error):         0.002  0.135\\nconcavity (standard error):           0.0    0.396\\nconcave points (standard error):      0.0    0.053\\nsymmetry (standard error):            0.008  0.079\\nfractal dimension (standard error):   0.001  0.03\\nradius (worst):                       7.93   36.04\\ntexture (worst):                      12.02  49.54\\nperimeter (worst):                    50.41  251.2\\narea (worst):                         185.2  4254.0\\nsmoothness (worst):                   0.071  0.223\\ncompactness (worst):                  0.027  1.058\\nconcavity (worst):                    0.0    1.252\\nconcave points (worst):               0.0    0.291\\nsymmetry (worst):                     0.156  0.664\\nfractal dimension (worst):            0.055  0.208\\n===================================== ====== ======\\n\\n:Missing Attribute Values: None\\n\\n:Class Distribution: 212 - Malignant, 357 - Benign\\n\\n:Creator:  Dr. William H. Wolberg, W. Nick Street, Olvi L. Mangasarian\\n\\n:Donor: Nick Street\\n\\n:Date: November, 1995\\n\\nThis is a copy of UCI ML Breast Cancer Wisconsin (Diagnostic) datasets.\\nhttps://goo.gl/U2Uwz2\\n\\nFeatures are computed from a digitized image of a fine needle\\naspirate (FNA) of a breast mass.  They describe\\ncharacteristics of the cell nuclei present in the image.\\n\\nSeparating plane described above was obtained using\\nMultisurface Method-Tree (MSM-T) [K. P. Bennett, \"Decision Tree\\nConstruction Via Linear Programming.\" Proceedings of the 4th\\nMidwest Artificial Intelligence and Cognitive Science Society,\\npp. 97-101, 1992], a classification method which uses linear\\nprogramming to construct a decision tree.  Relevant features\\nwere selected using an exhaustive search in the space of 1-4\\nfeatures and 1-3 separating planes.\\n\\nThe actual linear program used to obtain the separating plane\\nin the 3-dimensional space is that described in:\\n[K. P. Bennett and O. L. Mangasarian: \"Robust Linear\\nProgramming Discrimination of Two Linearly Inseparable Sets\",\\nOptimization Methods and Software 1, 1992, 23-34].\\n\\nThis database is also available through the UW CS ftp server:\\n\\nftp ftp.cs.wisc.edu\\ncd math-prog/cpo-dataset/machine-learn/WDBC/\\n\\n.. dropdown:: References\\n\\n  - W.N. Street, W.H. Wolberg and O.L. Mangasarian. Nuclear feature extraction\\n    for breast tumor diagnosis. IS&T/SPIE 1993 International Symposium on\\n    Electronic Imaging: Science and Technology, volume 1905, pages 861-870,\\n    San Jose, CA, 1993.\\n  - O.L. Mangasarian, W.N. Street and W.H. Wolberg. Breast cancer diagnosis and\\n    prognosis via linear programming. Operations Research, 43(4), pages 570-577,\\n    July-August 1995.\\n  - W.H. Wolberg, W.N. Street, and O.L. Mangasarian. Machine learning techniques\\n    to diagnose breast cancer from fine-needle aspirates. Cancer Letters 77 (1994)\\n    163-171.\\n', 'feature_names': array(['mean radius', 'mean texture', 'mean perimeter', 'mean area',\n",
            "       'mean smoothness', 'mean compactness', 'mean concavity',\n",
            "       'mean concave points', 'mean symmetry', 'mean fractal dimension',\n",
            "       'radius error', 'texture error', 'perimeter error', 'area error',\n",
            "       'smoothness error', 'compactness error', 'concavity error',\n",
            "       'concave points error', 'symmetry error',\n",
            "       'fractal dimension error', 'worst radius', 'worst texture',\n",
            "       'worst perimeter', 'worst area', 'worst smoothness',\n",
            "       'worst compactness', 'worst concavity', 'worst concave points',\n",
            "       'worst symmetry', 'worst fractal dimension'], dtype='<U23'), 'filename': 'breast_cancer.csv', 'data_module': 'sklearn.datasets.data'}\n",
            "Shape of X_train: (455, 30)\n",
            "Shape of X_test: (114, 30)\n",
            "Shape of y_train: (455,)\n",
            "Shape of y_test: (114,)\n",
            "Shape of X_train_scaled: (455, 30)\n",
            "Shape of X_test_scaled: (114, 30)\n"
          ]
        }
      ]
    },
    {
      "cell_type": "code",
      "source": [
        "#1. Import Required Libraries\n",
        "#load breast cancer data\n",
        "from sklearn.datasets import load_breast_cancer\n",
        "# to improve the model efficiency and generalisation, split the data for train and test\n",
        "from sklearn.model_selection import train_test_split\n",
        "# to hormonize the data all the numeric values are scaled to mean 0 and standard deviaiton or variance 1\n",
        "from sklearn.preprocessing import StandardScaler\n",
        "#for numerical calcualtions\n",
        "import numpy as np\n",
        "import pandas as pd\n",
        "\n",
        "2. #  importing the dataset and giving a new name\n",
        "ics = load_breast_cancer()\n",
        "features = pd.DataFrame(ics.data, columns=ics.feature_names)\n",
        "labels = pd.Series(ics.target)\n",
        "# dividing the datset into tranin and split\n",
        "features_train, features_test, labels_train, labels_test = train_test_split(features, labels, test_size=0.2, random_state=42)\n",
        "# check if th data is divided in corret number of rows\n",
        "print(f\"Training Set: {features_train.shape}, {labels_train.shape}\")\n",
        "print(f\"Test Set: {features_test.shape}, {labels_test.shape}\")\n"
      ],
      "metadata": {
        "colab": {
          "base_uri": "https://localhost:8080/"
        },
        "id": "k7IETB4PbQhB",
        "outputId": "7a7a2738-cec3-437d-c933-7875b001759c"
      },
      "execution_count": 1,
      "outputs": [
        {
          "output_type": "stream",
          "name": "stdout",
          "text": [
            "Training Set: (455, 30), (455,)\n",
            "Test Set: (114, 30), (114,)\n"
          ]
        }
      ]
    },
    {
      "cell_type": "code",
      "source": [
        "# StandardScale object is created\n",
        "scale = StandardScaler()\n",
        "# Transforming the train features\n",
        "features_train_scaled = scale.fit_transform(features_train)\n",
        "# Transforming the test features\n",
        "features_test_scaled = scale.transform(features_test)\n",
        "\n",
        "3. #Model Training:\n",
        "#Train three classifiers:\n",
        "from sklearn.neighbors import KNeighborsClassifier\n",
        "from sklearn.metrics import accuracy_score, precision_score, recall_score, f1_score, confusion_matrix\n",
        "# Starting KNN  with 5 neighbors\n",
        "model_knn = KNeighborsClassifier(n_neighbors=9)\n",
        "# Training the KNN model1 with the scaled training data\n",
        "model_knn.fit(features_train_scaled, labels_train)\n",
        "#prediciting on the test data\n",
        "pred_knn = model_knn.predict(features_test_scaled)\n",
        "#  evaluation\n",
        "accuracy = accuracy_score(labels_test, pred_knn)\n",
        "precision = precision_score(labels_test, pred_knn)\n",
        "recall = recall_score(labels_test, pred_knn)\n",
        "f1 = f1_score(labels_test, pred_knn)\n",
        "conf_matrix = confusion_matrix(labels_test, pred_knn)\n",
        "#results\n",
        "print(\"K-Nearest Neighbors (KNN) Model Performance:\")\n",
        "print(f\"Accuracy: {accuracy:.3f}\")\n",
        "print(f\"Precision: {precision:.3f}\")\n",
        "print(f\"Recall: {recall:.3f}\")\n",
        "print(f\"F1-score: {f1:.3f}\")\n",
        "print(\"Confusion Matrix:\")\n",
        "print(conf_matrix)"
      ],
      "metadata": {
        "colab": {
          "base_uri": "https://localhost:8080/"
        },
        "id": "hiduHURw4_r4",
        "outputId": "d92d8668-2754-4923-a745-417c74465d71"
      },
      "execution_count": 2,
      "outputs": [
        {
          "output_type": "stream",
          "name": "stdout",
          "text": [
            "K-Nearest Neighbors (KNN) Model Performance:\n",
            "Accuracy: 0.965\n",
            "Precision: 0.972\n",
            "Recall: 0.972\n",
            "F1-score: 0.972\n",
            "Confusion Matrix:\n",
            "[[41  2]\n",
            " [ 2 69]]\n"
          ]
        }
      ]
    },
    {
      "cell_type": "code",
      "source": [
        "from sklearn.tree import DecisionTreeClassifier\n",
        "# Decision Tree classifier (default settings)\n",
        "model_dt_default = DecisionTreeClassifier(max_depth=5)\n",
        "# Training the Decision Tree model with scaled training data\n",
        "model_dt_default.fit(features_train_scaled, labels_train)\n",
        "#prediciting on the test data\n",
        "predict_dt_default = model_dt_default.predict(features_test_scaled)\n",
        "# Evaluate\n",
        "accuracy_model_dt_default = accuracy_score(labels_test, predict_dt_default)\n",
        "precision_model_dt_default = precision_score(labels_test, predict_dt_default)\n",
        "recall_model_dt_default = recall_score(labels_test, predict_dt_default)\n",
        "f1_model_dt_default = f1_score(labels_test, predict_dt_default)\n",
        "conf_matrix_model_dt_default = confusion_matrix(labels_test, predict_dt_default)\n",
        "# Results\n",
        "print(\"Decision Tree Model Performance :\")\n",
        "print(f\"Accuracy: {accuracy_model_dt_default:.3f}\")\n",
        "print(f\"Precision: {precision_model_dt_default:.3f}\")\n",
        "print(f\"Recall: {recall_model_dt_default:.3f}\")\n",
        "print(f\"F1-score: {f1_model_dt_default:.3f}\")\n",
        "print(\"Confusion Matrix:\")\n",
        "print(conf_matrix_model_dt_default)"
      ],
      "metadata": {
        "colab": {
          "base_uri": "https://localhost:8080/"
        },
        "id": "NzwLG2_nY7SM",
        "outputId": "dcaa4aea-e54f-49fc-c61c-fb067fbc2516"
      },
      "execution_count": 4,
      "outputs": [
        {
          "output_type": "stream",
          "name": "stdout",
          "text": [
            "Decision Tree Model Performance :\n",
            "Accuracy: 0.947\n",
            "Precision: 0.958\n",
            "Recall: 0.958\n",
            "F1-score: 0.958\n",
            "Confusion Matrix:\n",
            "[[40  3]\n",
            " [ 3 68]]\n"
          ]
        }
      ]
    },
    {
      "cell_type": "markdown",
      "source": [],
      "metadata": {
        "id": "WIunPVbisKUV"
      }
    },
    {
      "cell_type": "code",
      "source": [
        "from sklearn.ensemble import RandomForestClassifier\n",
        "#  Random Forest classifier\n",
        "model_rf_default = RandomForestClassifier(n_estimators=60)\n",
        "# Training the model with the scaled training data\n",
        "model_rf_default.fit(features_train_scaled, labels_train)\n",
        "# Predicitng on the test data\n",
        "predict_rf_default = model_rf_default.predict(features_test_scaled)\n",
        "# Evaluate\n",
        "accuracy_model_rf_default= accuracy_score(labels_test, predict_rf_default)\n",
        "precision_model_rf_default = precision_score(labels_test, predict_rf_default)\n",
        "recall_model_rf_default = recall_score(labels_test, predict_rf_default)\n",
        "f1__model_rf_default = f1_score(labels_test, predict_rf_default)\n",
        "conf_matrix_model_rf_default = confusion_matrix(labels_test, predict_rf_default)\n",
        "# Results\n",
        "print(\"Random Forest Model Performance:\")\n",
        "print(f\"Accuracy: {accuracy_model_rf_default:.3f}\")\n",
        "print(f\"Precision: {precision_model_rf_default:.3f}\")\n",
        "print(f\"Recall: {recall_model_rf_default:.3f}\")\n",
        "print(f\"F1-score: {f1__model_rf_default:.3f}\")\n",
        "print(\"Confusion Matrix:\")\n",
        "print(conf_matrix_model_rf_default)\n"
      ],
      "metadata": {
        "colab": {
          "base_uri": "https://localhost:8080/"
        },
        "id": "U0ZXGL36Y8rX",
        "outputId": "972f16fd-0690-4c6a-bdfc-1f884ee51990"
      },
      "execution_count": 5,
      "outputs": [
        {
          "output_type": "stream",
          "name": "stdout",
          "text": [
            "Random Forest Model Performance:\n",
            "Accuracy: 0.965\n",
            "Precision: 0.959\n",
            "Recall: 0.986\n",
            "F1-score: 0.972\n",
            "Confusion Matrix:\n",
            "[[40  3]\n",
            " [ 1 70]]\n"
          ]
        }
      ]
    },
    {
      "cell_type": "code",
      "source": [
        "import numpy as np\n",
        "import matplotlib.pyplot as plt\n",
        "# For high level of interface\n",
        "import seaborn as sns\n",
        "\n",
        "# Model names\n",
        "Model_Type = [\"KNN\", \"Decision Tree\", \"Random Forest\"]\n",
        "\n",
        "# Performance metrics\n",
        "Accuracy = [0.965, 0.939, 0.965]\n",
        "Precision = [0.972, 0.944, 0.959]\n",
        "Recall = [0.972, 0.958, 0.986]\n",
        "F1_score_values = [0.972, 0.951, 0.972]\n",
        "\n",
        "# Size of figure\n",
        "plt.figure(figsize=(10, 6))\n",
        "\n",
        "# Bar positions\n",
        "x = np.arange(len(Model_Type))\n",
        "\n",
        "# Plot bars for each metric\n",
        "plt.bar(x - 0.2*1.5, Accuracy, width=0.2, label=\"Accuracy\", color=\"blue\")\n",
        "plt.bar(x - 0.2/2, Precision, width=0.2, label=\"Precision\", color=\"GREY\")\n",
        "plt.bar(x + 0.2/2, Recall, width=0.2, label=\"Recall\", color=\"pink\")\n",
        "plt.bar(x + 0.2*1.5, F1_score_values, width=0.2, label=\"F1 Score\", color=\"red\")\n",
        "\n",
        "# Add labels and title\n",
        "plt.xlabel(\"Model_Type\")\n",
        "plt.ylabel(\"Metrics\")\n",
        "plt.title(\"Model Performance \")\n",
        "plt.xticks(ticks=x, labels=Model_Type)\n",
        "plt.ylim(0.9, 1.0)  # Set y-axis limit for better visibility\n",
        "plt.legend()\n",
        "\n",
        "# Show plot\n",
        "plt.show()"
      ],
      "metadata": {
        "colab": {
          "base_uri": "https://localhost:8080/",
          "height": 564
        },
        "id": "ceSCfV8s1OGX",
        "outputId": "e533ba3c-2dc1-4ff2-b166-c9cf241ddb10"
      },
      "execution_count": 6,
      "outputs": [
        {
          "output_type": "display_data",
          "data": {
            "text/plain": [
              "<Figure size 1000x600 with 1 Axes>"
            ],
            "image/png": "[encoded data removed]"
          },
          "metadata": {}
        }
      ]
    },
    {
      "cell_type": "code",
      "source": [
        "3. #Model Training:\n",
        "#Train three classifiers:\n",
        "from sklearn.neighbors import KNeighborsClassifier\n",
        "from sklearn.metrics import accuracy_score, precision_score, recall_score, f1_score, confusion_matrix\n",
        "# Starting KNN  with 5 neighbors\n",
        "\n",
        "# List of different k values to evaluate\n",
        "k_values = [3,5, 6, 7, 9]\n",
        "results = []\n",
        "\n",
        "# Loop through each k value\n",
        "for k in k_values:\n",
        "    # # Starting KNN  with different neighbors\n",
        "    model_knn = KNeighborsClassifier(n_neighbors=k)\n",
        "\n",
        "# Training the KNN model1 with the scaled training data\n",
        "    model_knn.fit(features_train_scaled, labels_train)\n",
        "\n",
        "#prediciting on the test data\n",
        "    pred_knn = model_knn.predict(features_test_scaled)\n",
        "\n",
        "# evaluation\n",
        "    accuracy = accuracy_score(labels_test, pred_knn)\n",
        "    precision = precision_score(labels_test, pred_knn)\n",
        "    recall = recall_score(labels_test, pred_knn)\n",
        "    f1 = f1_score(labels_test, pred_knn)\n",
        "    conf_matrix = confusion_matrix(labels_test, pred_knn)\n",
        "\n",
        "    # Extracting results in a dictionary\n",
        "    results.append({\n",
        "        'k': k,\n",
        "        'Accuracy': accuracy,\n",
        "        'Precision': precision,\n",
        "        'Recall': recall,\n",
        "        'F1-Score': f1,\n",
        "        'Confusion Matrix': conf_matrix\n",
        "    })\n",
        "\n",
        "#results\n",
        "for result in results:\n",
        "    print(f\"\\nK-Nearest Neighbors (KNN) Model Performance (k={result['k']}):\")\n",
        "    print(f\"Accuracy: {result['Accuracy']:.3f}\")\n",
        "    print(f\"Precision: {result['Precision']:.3f}\")\n",
        "    print(f\"Recall: {result['Recall']:.3f}\")\n",
        "    print(f\"F1-Score: {result['F1-Score']:.3f}\")\n",
        "    print(\"Confusion Matrix:\")\n",
        "    print(result['Confusion Matrix'])"
      ],
      "metadata": {
        "colab": {
          "base_uri": "https://localhost:8080/"
        },
        "id": "adKB2iFVhOcL",
        "outputId": "7e4aa8e4-1960-497d-faf8-43c9119e5d0b"
      },
      "execution_count": 7,
      "outputs": [
        {
          "output_type": "stream",
          "name": "stdout",
          "text": [
            "\n",
            "K-Nearest Neighbors (KNN) Model Performance (k=3):\n",
            "Accuracy: 0.947\n",
            "Precision: 0.958\n",
            "Recall: 0.958\n",
            "F1-Score: 0.958\n",
            "Confusion Matrix:\n",
            "[[40  3]\n",
            " [ 3 68]]\n",
            "\n",
            "K-Nearest Neighbors (KNN) Model Performance (k=5):\n",
            "Accuracy: 0.947\n",
            "Precision: 0.958\n",
            "Recall: 0.958\n",
            "F1-Score: 0.958\n",
            "Confusion Matrix:\n",
            "[[40  3]\n",
            " [ 3 68]]\n",
            "\n",
            "K-Nearest Neighbors (KNN) Model Performance (k=6):\n",
            "Accuracy: 0.956\n",
            "Precision: 0.971\n",
            "Recall: 0.958\n",
            "F1-Score: 0.965\n",
            "Confusion Matrix:\n",
            "[[41  2]\n",
            " [ 3 68]]\n",
            "\n",
            "K-Nearest Neighbors (KNN) Model Performance (k=7):\n",
            "Accuracy: 0.947\n",
            "Precision: 0.958\n",
            "Recall: 0.958\n",
            "F1-Score: 0.958\n",
            "Confusion Matrix:\n",
            "[[40  3]\n",
            " [ 3 68]]\n",
            "\n",
            "K-Nearest Neighbors (KNN) Model Performance (k=9):\n",
            "Accuracy: 0.965\n",
            "Precision: 0.972\n",
            "Recall: 0.972\n",
            "F1-Score: 0.972\n",
            "Confusion Matrix:\n",
            "[[41  2]\n",
            " [ 2 69]]\n"
          ]
        }
      ]
    },
    {
      "cell_type": "code",
      "source": [
        "# Model names\n",
        "Model_Type = [\"KNN3\", \"KNN5 \", \"KNN6\", \"KNN7\", \"KNN9\"]\n",
        "\n",
        "# Performance metrics\n",
        "Accuracy = [0.947, 0.947, 0.956, 0.947, 0.965]\n",
        "Precision = [0.958, 0.958, 0.971, 0.958, 0.972]\n",
        "Recall = [0.958, 0.958, 0.958, 0.958, 0.972]\n",
        "F1_score_values = [0.958, 0.958, 0.965, 0.958, 0.972]\n",
        "\n",
        "# Size of figure\n",
        "plt.figure(figsize=(10, 6))\n",
        "\n",
        "# Bar positions\n",
        "x = np.arange(len(Model_Type))\n",
        "\n",
        "# Plot bars for each metric\n",
        "plt.bar(x - 0.2*1.5, Accuracy, width=0.2, label=\"Accuracy\", color=\"blue\")\n",
        "plt.bar(x - 0.2/2, Precision, width=0.2, label=\"Precision\", color=\"GREY\")\n",
        "plt.bar(x + 0.2/2, Recall, width=0.2, label=\"Recall\", color=\"pink\")\n",
        "plt.bar(x + 0.2*1.5, F1_score_values, width=0.2, label=\"F1 Score\", color=\"red\")\n",
        "\n",
        "# Add labels and title\n",
        "plt.xlabel(\"Model_Type\")\n",
        "plt.ylabel(\"Metrics\")\n",
        "plt.title(\"Model Performance (Different Hyperparameters)\")\n",
        "plt.xticks(ticks=x, labels=Model_Type)\n",
        "plt.ylim(0.9, 1.0)  # Set y-axis limit for better visibility\n",
        "plt.legend()\n",
        "\n",
        "# Show plot\n",
        "plt.show()"
      ],
      "metadata": {
        "colab": {
          "base_uri": "https://localhost:8080/",
          "height": 564
        },
        "id": "vldvdwBCeLdq",
        "outputId": "16ee5821-9395-4e4c-dbbc-dfc66b19eca7"
      },
      "execution_count": 8,
      "outputs": [
        {
          "output_type": "display_data",
          "data": {
            "text/plain": [
              "<Figure size 1000x600 with 1 Axes>"
            ],
            "image/png": "[encoded data removed]"
          },
          "metadata": {}
        }
      ]
    },
    {
      "cell_type": "code",
      "source": [
        "from sklearn.tree import DecisionTreeClassifier\n",
        "# Decision Tree classifier (different depths)\n",
        "depth_values = [ 1, 3, 5, 7]\n",
        "\n",
        "# Loop through different values\n",
        "for depth in depth_values:\n",
        "     model_dt_default = DecisionTreeClassifier(max_depth=depth)\n",
        "# Training the Decision Tree model with scaled training data\n",
        "     model_dt_default.fit(features_train_scaled, labels_train)\n",
        "#prediciting on the test data\n",
        "     predict_dt_default = model_dt_default.predict(features_test_scaled)\n",
        "# Evaluate\n",
        "     accuracy_model_dt_default = accuracy_score(labels_test, predict_dt_default)\n",
        "     precision_model_dt_default = precision_score(labels_test, predict_dt_default)\n",
        "     recall_model_dt_default = recall_score(labels_test, predict_dt_default)\n",
        "     f1_model_dt_default = f1_score(labels_test, predict_dt_default)\n",
        "     conf_matrix_model_dt_default = confusion_matrix(labels_test, predict_dt_default)\n",
        "\n",
        "# Results\n",
        "     print(f\"\\nDecision Tree Model Performance (max_depth={depth}):\")\n",
        "     print(f\"Accuracy: {accuracy_model_dt_default:.3f}\")\n",
        "     print(f\"Precision: {precision_model_dt_default:.3f}\")\n",
        "     print(f\"Recall: {recall_model_dt_default:.3f}\")\n",
        "     print(f\"F1-Score: {f1_model_dt_default:.3f}\")\n",
        "     print(\"Confusion Matrix:\")\n",
        "     print(conf_matrix_model_dt_default)\n"
      ],
      "metadata": {
        "colab": {
          "base_uri": "https://localhost:8080/"
        },
        "id": "DbnA7dPHhhUr",
        "outputId": "e8891c14-e13b-488c-8f20-8d47c902b1e6"
      },
      "execution_count": 9,
      "outputs": [
        {
          "output_type": "stream",
          "name": "stdout",
          "text": [
            "\n",
            "Decision Tree Model Performance (max_depth=1):\n",
            "Accuracy: 0.895\n",
            "Precision: 0.940\n",
            "Recall: 0.887\n",
            "F1-Score: 0.913\n",
            "Confusion Matrix:\n",
            "[[39  4]\n",
            " [ 8 63]]\n",
            "\n",
            "Decision Tree Model Performance (max_depth=3):\n",
            "Accuracy: 0.939\n",
            "Precision: 0.944\n",
            "Recall: 0.958\n",
            "F1-Score: 0.951\n",
            "Confusion Matrix:\n",
            "[[39  4]\n",
            " [ 3 68]]\n",
            "\n",
            "Decision Tree Model Performance (max_depth=5):\n",
            "Accuracy: 0.947\n",
            "Precision: 0.958\n",
            "Recall: 0.958\n",
            "F1-Score: 0.958\n",
            "Confusion Matrix:\n",
            "[[40  3]\n",
            " [ 3 68]]\n",
            "\n",
            "Decision Tree Model Performance (max_depth=7):\n",
            "Accuracy: 0.947\n",
            "Precision: 0.958\n",
            "Recall: 0.958\n",
            "F1-Score: 0.958\n",
            "Confusion Matrix:\n",
            "[[40  3]\n",
            " [ 3 68]]\n"
          ]
        }
      ]
    },
    {
      "cell_type": "code",
      "source": [
        "from sklearn.tree import DecisionTreeClassifier\n",
        "# Decision Tree classifier (default settings)\n",
        "model_dt_default = DecisionTreeClassifier()\n",
        "# Training the Decision Tree model with scaled training data\n",
        "model_dt_default.fit(features_train_scaled, labels_train)\n",
        "#prediciting on the test data\n",
        "predict_dt_default = model_dt_default.predict(features_test_scaled)\n",
        "# Evaluate\n",
        "accuracy_model_dt_default = accuracy_score(labels_test, predict_dt_default)\n",
        "precision_model_dt_default = precision_score(labels_test, predict_dt_default)\n",
        "recall_model_dt_default = recall_score(labels_test, predict_dt_default)\n",
        "f1_model_dt_default = f1_score(labels_test, predict_dt_default)\n",
        "conf_matrix_model_dt_default = confusion_matrix(labels_test, predict_dt_default)\n",
        "# Results\n",
        "print(\"Decision Tree Model Performance (Default Settings):\")\n",
        "print(f\"Accuracy: {accuracy_model_dt_default:.3f}\")\n",
        "print(f\"Precision: {precision_model_dt_default:.3f}\")\n",
        "print(f\"Recall: {recall_model_dt_default:.3f}\")\n",
        "print(f\"F1-score: {f1_model_dt_default:.3f}\")\n",
        "print(\"Confusion Matrix:\")\n",
        "print(conf_matrix_model_dt_default)"
      ],
      "metadata": {
        "colab": {
          "base_uri": "https://localhost:8080/"
        },
        "id": "VmytdAgpIVtl",
        "outputId": "e04191c6-1fe6-4510-aebd-370459a0800b"
      },
      "execution_count": 10,
      "outputs": [
        {
          "output_type": "stream",
          "name": "stdout",
          "text": [
            "Decision Tree Model Performance (Default Settings):\n",
            "Accuracy: 0.921\n",
            "Precision: 0.943\n",
            "Recall: 0.930\n",
            "F1-score: 0.936\n",
            "Confusion Matrix:\n",
            "[[39  4]\n",
            " [ 5 66]]\n"
          ]
        }
      ]
    },
    {
      "cell_type": "code",
      "source": [
        "# Model names\n",
        "Model_Type = [\"DTdefault\", \"DT1 \", \"DT3\", \"DT5\", \"DT7\"]\n",
        "\n",
        "# Performance metrics\n",
        "Accuracy = [0.939, 0.895, 0.947, 0.947, 0.939]\n",
        "Precision = [0.944, 0.940, 0.945, 0.958, 0.944]\n",
        "Recall = [0.958, 0.887, 0.972, 0.958, 0.958]\n",
        "F1_score_values = [0.951, 0.913, 0.958, 0.958, 0.951]\n",
        "\n",
        "# Size of figure\n",
        "plt.figure(figsize=(10, 6))\n",
        "\n",
        "# Bar positions\n",
        "x = np.arange(len(Model_Type))\n",
        "\n",
        "# Plot bars for each metric\n",
        "plt.bar(x - 0.2*1.5, Accuracy, width=0.2, label=\"Accuracy\", color=\"blue\")\n",
        "plt.bar(x - 0.2/2, Precision, width=0.2, label=\"Precision\", color=\"GREY\")\n",
        "plt.bar(x + 0.2/2, Recall, width=0.2, label=\"Recall\", color=\"pink\")\n",
        "plt.bar(x + 0.2*1.5, F1_score_values, width=0.2, label=\"F1 Score\", color=\"red\")\n",
        "\n",
        "# Add labels and title\n",
        "plt.xlabel(\"Model_Type\")\n",
        "plt.ylabel(\"Metrics\")\n",
        "plt.title(\"Model Performance (Different Hyperparameters)\")\n",
        "plt.xticks(ticks=x, labels=Model_Type)\n",
        "plt.ylim(0.85, 1.0)  # Set y-axis limit for better visibility\n",
        "plt.legend()\n",
        "\n",
        "# Show plot\n",
        "plt.show()"
      ],
      "metadata": {
        "colab": {
          "base_uri": "https://localhost:8080/",
          "height": 564
        },
        "id": "J3bioIRyofvI",
        "outputId": "90dea26f-a3d2-4e7e-97ee-aaf8c0ae9c58"
      },
      "execution_count": 11,
      "outputs": [
        {
          "output_type": "display_data",
          "data": {
            "text/plain": [
              "<Figure size 1000x600 with 1 Axes>"
            ],
            "image/png": "[encoded data removed]"
          },
          "metadata": {}
        }
      ]
    },
    {
      "cell_type": "code",
      "source": [
        "from sklearn.ensemble import RandomForestClassifier\n",
        "# Random forest classifier (different depths)\n",
        "estimator_values = [10, 60, 100, 125, 160]\n",
        "# Loop through different values\n",
        "for n_trees in estimator_values:\n",
        "#  Random Forest classifier\n",
        "    model_rf_default = RandomForestClassifier(n_estimators= n_trees, random_state= 40)\n",
        "# Training the model with the scaled training data\n",
        "    model_rf_default.fit(features_train_scaled, labels_train)\n",
        "# Predicitng on the test data\n",
        "    predict_rf_default = model_rf_default.predict(features_test_scaled)\n",
        "# Evaluate\n",
        "    accuracy_model_rf_default= accuracy_score(labels_test, predict_rf_default)\n",
        "    precision_model_rf_default = precision_score(labels_test, predict_rf_default)\n",
        "    recall_model_rf_default = recall_score(labels_test, predict_rf_default)\n",
        "    f1__model_rf_default = f1_score(labels_test, predict_rf_default)\n",
        "    conf_matrix_model_rf_default = confusion_matrix(labels_test, predict_rf_default)\n",
        "# Results\n",
        "    print(f\"\\nRandom Forest Model Performance (n_estimators={n_trees}):\")\n",
        "    print(f\"Accuracy: {accuracy_model_rf_default:.3f}\")\n",
        "    print(f\"Precision: {precision_model_rf_default:.3f}\")\n",
        "    print(f\"Recall: {recall_model_rf_default:.3f}\")\n",
        "    print(f\"F1-Score: {f1__model_rf_default:.3f}\")\n",
        "    print(\"Confusion Matrix:\")\n",
        "    print(conf_matrix_model_rf_default)"
      ],
      "metadata": {
        "colab": {
          "base_uri": "https://localhost:8080/"
        },
        "id": "xybA1o3nnT9F",
        "outputId": "d148025b-4a79-4a9e-9178-0c3f3528487f"
      },
      "execution_count": 12,
      "outputs": [
        {
          "output_type": "stream",
          "name": "stdout",
          "text": [
            "\n",
            "Random Forest Model Performance (n_estimators=10):\n",
            "Accuracy: 0.965\n",
            "Precision: 0.959\n",
            "Recall: 0.986\n",
            "F1-Score: 0.972\n",
            "Confusion Matrix:\n",
            "[[40  3]\n",
            " [ 1 70]]\n",
            "\n",
            "Random Forest Model Performance (n_estimators=60):\n",
            "Accuracy: 0.965\n",
            "Precision: 0.959\n",
            "Recall: 0.986\n",
            "F1-Score: 0.972\n",
            "Confusion Matrix:\n",
            "[[40  3]\n",
            " [ 1 70]]\n",
            "\n",
            "Random Forest Model Performance (n_estimators=100):\n",
            "Accuracy: 0.965\n",
            "Precision: 0.959\n",
            "Recall: 0.986\n",
            "F1-Score: 0.972\n",
            "Confusion Matrix:\n",
            "[[40  3]\n",
            " [ 1 70]]\n",
            "\n",
            "Random Forest Model Performance (n_estimators=125):\n",
            "Accuracy: 0.965\n",
            "Precision: 0.959\n",
            "Recall: 0.986\n",
            "F1-Score: 0.972\n",
            "Confusion Matrix:\n",
            "[[40  3]\n",
            " [ 1 70]]\n",
            "\n",
            "Random Forest Model Performance (n_estimators=160):\n",
            "Accuracy: 0.965\n",
            "Precision: 0.959\n",
            "Recall: 0.986\n",
            "F1-Score: 0.972\n",
            "Confusion Matrix:\n",
            "[[40  3]\n",
            " [ 1 70]]\n"
          ]
        }
      ]
    },
    {
      "cell_type": "code",
      "source": [
        "# Model names\n",
        "Model_Type = [\"RF10\", \"RF60 \", \"RF100\", \"RF125\", \"RF160\"]\n",
        "\n",
        "# Performance metrics\n",
        "n_estimators = [10, 60, 100, 125, 160]\n",
        "Accuracy = [0.965, 0.965, 0.956, 0.965, 0.965]\n",
        "Precision = [0.959, 0.959, 0.958,0.959, 0.959]\n",
        "Recall = [0.986, 0.986, 0.972,0.986, 0.986]\n",
        "F1_score_values = [0.972, 0.972,0.965 ,0.972, 0.972]\n",
        "\n",
        "# Size of figure\n",
        "plt.figure(figsize=(10, 6))\n",
        "\n",
        "# Bar positions\n",
        "x = np.arange(len(Model_Type))\n",
        "\n",
        "# Plot bars for each metric\n",
        "plt.bar(x - 0.2*1.5, Accuracy, width=0.2, label=\"Accuracy\", color=\"blue\")\n",
        "plt.bar(x - 0.2/2, Precision, width=0.2, label=\"Precision\", color=\"GREY\")\n",
        "plt.bar(x + 0.2/2, Recall, width=0.2, label=\"Recall\", color=\"pink\")\n",
        "plt.bar(x + 0.2*1.5, F1_score_values, width=0.2, label=\"F1 Score\", color=\"red\")\n",
        "\n",
        "# Add labels and title\n",
        "plt.xlabel(\"Model_Type\")\n",
        "plt.ylabel(\"Metrics\")\n",
        "plt.title(\"Model Performance (Different Hyperparameters) \")\n",
        "plt.xticks(ticks=x, labels=Model_Type)\n",
        "plt.ylim(0.9, 1.0)  # Set y-axis limit for better visibility\n",
        "plt.legend()\n",
        "\n",
        "# Show plot\n",
        "plt.show()"
      ],
      "metadata": {
        "colab": {
          "base_uri": "https://localhost:8080/",
          "height": 564
        },
        "id": "YS8kU_GWd3Rw",
        "outputId": "ab2cf151-120f-4a9b-a3ec-0b71a3d35b2d"
      },
      "execution_count": 13,
      "outputs": [
        {
          "output_type": "display_data",
          "data": {
            "text/plain": [
              "<Figure size 1000x600 with 1 Axes>"
            ],
            "image/png": "[encoded data removed]"
          },
          "metadata": {}
        }
      ]
    }
  ]
}